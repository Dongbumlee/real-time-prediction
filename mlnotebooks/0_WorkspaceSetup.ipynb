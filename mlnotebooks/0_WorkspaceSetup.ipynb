{
 "cells": [
  {
   "cell_type": "markdown",
   "metadata": {},
   "source": [
    "# Create the Azure ML Workspace config file"
   ]
  },
  {
   "cell_type": "code",
   "execution_count": null,
   "metadata": {},
   "outputs": [],
   "source": [
    "import azureml\n",
    "from azureml.core import Workspace, Datastore, Run\n",
    "from azureml.core.model import Model\n",
    "\n",
    "print(\"Azure ML: \", azureml.core.VERSION)"
   ]
  },
  {
   "cell_type": "code",
   "execution_count": null,
   "metadata": {},
   "outputs": [],
   "source": [
    "mlWorkspaceName = '<your ml workspace name>'\n",
    "subscriptionId = '<your azure subscription id>'\n",
    "\n",
    "ws = Workspace.get(mlWorkspaceName,subscription_id=subscriptionId)\n",
    "ws.write_config()\n",
    "ws.get_details()\n",
    "print(ws.name, ws.location, ws.resource_group, ws.location, sep = ' | ')"
   ]
  },
  {
   "cell_type": "markdown",
   "metadata": {},
   "source": [
    "# Create a new Datastore in the Workspace"
   ]
  },
  {
   "cell_type": "code",
   "execution_count": null,
   "metadata": {},
   "outputs": [],
   "source": [
    "datastoreName = 'mltrainingdatastore'\n",
    "blobStorageContainerName = 'mldatasets'\n",
    "blobStorageAccountName = '<your storage account name>'\n",
    "blobStorageAccountKey =  '<your storage account key>'\n",
    "ds = Datastore.register_azure_blob_container(workspace=ws, \n",
    "                                             datastore_name=datastoreName, \n",
    "                                             container_name=blobStorageContainerName,\n",
    "                                             account_name=blobStorageAccountName, \n",
    "                                             account_key=blobStorageAccountKey,\n",
    "                                             create_if_not_exists=False)"
   ]
  },
  {
   "cell_type": "code",
   "execution_count": null,
   "metadata": {},
   "outputs": [],
   "source": [
    "#list all datastores registered in current workspace\n",
    "datastores = ws.datastores\n",
    "for name, ds in datastores.items():\n",
    "    print(name, ds.datastore_type)"
   ]
  },
  {
   "cell_type": "markdown",
   "metadata": {},
   "source": [
    "# Register the training dataset in the Datastore"
   ]
  },
  {
   "cell_type": "code",
   "execution_count": null,
   "metadata": {},
   "outputs": [],
   "source": [
    "from azureml.core.dataset import Dataset\n",
    "\n",
    "# create an in-memory Dataset on your local machine\n",
    "datapath = ds.path('train.csv')\n",
    "dataset = Dataset.from_delimited_files(datapath)\n",
    "\n",
    "# returns the first 5 rows of the Dataset as a pandas Dataframe.\n",
    "dataset.head(5)"
   ]
  },
  {
   "cell_type": "code",
   "execution_count": null,
   "metadata": {},
   "outputs": [],
   "source": [
    "datasetName = 'qualitydataset'\n",
    "dataset = dataset.register(workspace = ws,\n",
    "                           name = datasetName,\n",
    "                           description = 'Training data for quality prediction',\n",
    "                           exist_ok = False)"
   ]
  },
  {
   "cell_type": "code",
   "execution_count": null,
   "metadata": {},
   "outputs": [],
   "source": [
    "# See list of datasets registered in workspace.\n",
    "Dataset.list(ws)"
   ]
  }
 ],
 "metadata": {
  "kernelspec": {
   "display_name": "Python 3.6 - AzureML",
   "language": "python",
   "name": "python3-azureml"
  },
  "language_info": {
   "codemirror_mode": {
    "name": "ipython",
    "version": 3
   },
   "file_extension": ".py",
   "mimetype": "text/x-python",
   "name": "python",
   "nbconvert_exporter": "python",
   "pygments_lexer": "ipython3",
   "version": "3.6.8"
  }
 },
 "nbformat": 4,
 "nbformat_minor": 2
}
