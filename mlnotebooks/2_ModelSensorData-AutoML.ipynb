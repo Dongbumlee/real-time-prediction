{
 "cells": [
  {
   "cell_type": "markdown",
   "metadata": {},
   "source": [
    "# Create initial model"
   ]
  },
  {
   "cell_type": "code",
   "execution_count": null,
   "metadata": {},
   "outputs": [],
   "source": [
    "import logging\n",
    "\n",
    "from matplotlib import pyplot as plt\n",
    "import numpy as np\n",
    "import pandas as pd\n",
    "\n",
    "import azureml.core\n",
    "from azureml.core.experiment import Experiment\n",
    "from azureml.core.workspace import Workspace\n",
    "from azureml.train.automl import AutoMLConfig\n",
    "\n",
    "ws = Workspace.from_config()\n",
    "\n",
    "# Choose a name for the experiment and specify the project folder.\n",
    "experiment_name = 'quality-prediction-automl'\n",
    "project_folder = './projects/quality-prediction-automl'\n",
    "\n",
    "experiment = Experiment(ws, experiment_name)\n",
    "\n",
    "output = {}\n",
    "output['SDK version'] = azureml.core.VERSION\n",
    "output['Subscription ID'] = ws.subscription_id\n",
    "output['Workspace Name'] = ws.name\n",
    "output['Resource Group'] = ws.resource_group\n",
    "output['Location'] = ws.location\n",
    "output['Project Directory'] = project_folder\n",
    "output['Experiment Name'] = experiment.name\n",
    "pd.set_option('display.max_colwidth', -1)\n",
    "outputDf = pd.DataFrame(data = output, index = [''])\n",
    "outputDf.T"
   ]
  },
  {
   "cell_type": "markdown",
   "metadata": {},
   "source": [
    "# Create the train / test datasets using all the features"
   ]
  },
  {
   "cell_type": "code",
   "execution_count": null,
   "metadata": {},
   "outputs": [],
   "source": [
    "ws = Workspace.from_config()\n",
    "allData = ws.datasets['qualitydataset'].to_pandas_dataframe()\n",
    "\n",
    "allfeatures = ['Quality','S1','S2','S3','S5','S6','S7','S8','S9','S10','S11','S12','S13','S14','S15','S16','S17','S18','S19','S20','S21','S22','S23','S24','S25','S26','S27','S28','S29','S30','S31','S32','S33','S34','S35','S36','S37','S38','S39','S40','S41']\n",
    "\n",
    "trainData = allData[allfeatures]\n",
    "print(trainData.shape)\n",
    "trainData = trainData.dropna()\n",
    "print(trainData.shape)\n",
    "trainData.head(50)\n",
    "\n",
    "X = trainData[allfeatures[1:len(allfeatures)]].astype(float).values # exclude first feature\n",
    "y = trainData[allfeatures[0]].astype(float).values  # use first feature\n",
    "print(X)\n",
    "print(y)\n",
    "\n",
    "automl_config = AutoMLConfig(task = 'classification',\n",
    "                             name = experiment_name,\n",
    "                             primary_metric = 'AUC_weighted',\n",
    "                             X = X, \n",
    "                             y = y,\n",
    "                             preprocess = False,\n",
    "                             iterations = 10,\n",
    "                             path = project_folder)"
   ]
  },
  {
   "cell_type": "markdown",
   "metadata": {},
   "source": [
    "# Train the model"
   ]
  },
  {
   "cell_type": "code",
   "execution_count": null,
   "metadata": {},
   "outputs": [],
   "source": [
    "local_run = experiment.submit(automl_config, show_output = True)"
   ]
  },
  {
   "cell_type": "code",
   "execution_count": null,
   "metadata": {},
   "outputs": [],
   "source": [
    "local_run"
   ]
  },
  {
   "cell_type": "markdown",
   "metadata": {},
   "source": [
    "# Register the Best Fit model with Azure ML Workspace"
   ]
  },
  {
   "cell_type": "code",
   "execution_count": null,
   "metadata": {},
   "outputs": [],
   "source": [
    "best_run, fitted_model = local_run.get_output()\n",
    "description = 'Quality prediction model Automl'\n",
    "tags = None\n",
    "model = local_run.register_model(description = description, tags = tags)\n",
    "\n",
    "print(local_run.model_id) # This will be written to the script file later in the notebook."
   ]
  },
  {
   "cell_type": "markdown",
   "metadata": {},
   "source": [
    "# Download model from remote to cache"
   ]
  },
  {
   "cell_type": "code",
   "execution_count": null,
   "metadata": {},
   "outputs": [],
   "source": [
    "model.get_model_path(model_name='AutoML7b4f55407best', version=1)"
   ]
  },
  {
   "cell_type": "markdown",
   "metadata": {},
   "source": [
    "# Test the Model"
   ]
  },
  {
   "cell_type": "code",
   "execution_count": null,
   "metadata": {},
   "outputs": [],
   "source": [
    "import pickle\n",
    "import json\n",
    "import numpy\n",
    "from sklearn.externals import joblib\n",
    "from azureml.core.model import Model\n",
    "\n",
    "rawdata = '{ \"data\" : [1.999867,-18.0,4.999803,24.39346,28.1,35.9,39.5,23.1,986.1083,2084.438,2156.724,1097.541,20.70007,25.01674,26.33074,24.18593,21.69105,100.0,140.5465,132.7331,0.003690759,38.77173,24.99968,31.5868,0.1375652,26.95378,0.0,54.95482,0.01181043,60.0,40.0,13.0,0.03044727,0.7,0.1277504,0.460621,28283.33,26908.74,17991.27,18333.06640625] }'\n",
    "testdata = json.loads(rawdata)['data']\n",
    "testdata = [numpy.array(testdata)]\n",
    "\n",
    "model_path = Model.get_model_path(model_name = local_run.model_id)\n",
    "currentmodel = joblib.load(model_path)\n",
    "\n",
    "result = currentmodel.predict(testdata)\n",
    "\n",
    "print(testdata)\n",
    "print(result)"
   ]
  },
  {
   "cell_type": "code",
   "execution_count": null,
   "metadata": {},
   "outputs": [],
   "source": []
  }
 ],
 "metadata": {
  "kernelspec": {
   "display_name": "Python 3.6 - AzureML",
   "language": "python",
   "name": "python3-azureml"
  },
  "language_info": {
   "codemirror_mode": {
    "name": "ipython",
    "version": 3
   },
   "file_extension": ".py",
   "mimetype": "text/x-python",
   "name": "python",
   "nbconvert_exporter": "python",
   "pygments_lexer": "ipython3",
   "version": "3.6.8"
  }
 },
 "nbformat": 4,
 "nbformat_minor": 2
}
